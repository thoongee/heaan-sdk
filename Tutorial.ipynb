{
 "cells": [
  {
   "cell_type": "code",
   "execution_count": 3,
   "id": "833c90c0-3781-434f-a6e9-ca28fddb2915",
   "metadata": {
    "tags": []
   },
   "outputs": [
    {
     "name": "stderr",
     "output_type": "stream",
     "text": [
      "/tmp/ipykernel_2606/4139506428.py:20: UserWarning: The currently available memory size is 4. It must be at least 16GB.\n",
      "  context = heaan.Context(\n"
     ]
    },
    {
     "name": "stdout",
     "output_type": "stream",
     "text": [
      "The currently used HEaaN library does not support GPU acceleration\n"
     ]
    }
   ],
   "source": [
    "import os\n",
    "os.environ[\"OMP_NUM_THREADS\"] = \"8\"  # set the number of CPU threads to use for parallel regions\n",
    "\n",
    "from pathlib import Path\n",
    "import numpy as np\n",
    "import pandas as pd\n",
    "import time\n",
    "import heaan_sdk as heaan\n",
    "import math\n",
    "\n",
    "# set key_dir_path\n",
    "key_dir_path = Path('./BinaryDT/keys')\n",
    "\n",
    "# set parameter\n",
    "params = heaan.HEParameter.from_preset(\"FGb\")\n",
    "\n",
    "# init context and load all keys\n",
    "# if set generate_keys=True, then make key\n",
    "# if set generate_keys=False, then not make key. just use existing key.\n",
    "context = heaan.Context(\n",
    "    params,\n",
    "    key_dir_path=key_dir_path,\n",
    "    load_keys=\"all\",\n",
    "    generate_keys=False,\n",
    ")"
   ]
  },
  {
   "cell_type": "code",
   "execution_count": 4,
   "id": "0239e830-ca2d-4c28-b24b-2666a99bdbaa",
   "metadata": {
    "tags": []
   },
   "outputs": [
    {
     "data": {
      "text/plain": [
       "32768"
      ]
     },
     "execution_count": 4,
     "metadata": {},
     "output_type": "execute_result"
    }
   ],
   "source": [
    "num_slot = context.num_slots\n",
    "num_slot"
   ]
  },
  {
   "cell_type": "code",
   "execution_count": 3,
   "id": "6b797307-bb39-43fb-88d9-138b631ae44c",
   "metadata": {
    "tags": []
   },
   "outputs": [
    {
     "data": {
      "text/plain": [
       "15"
      ]
     },
     "execution_count": 3,
     "metadata": {},
     "output_type": "execute_result"
    }
   ],
   "source": [
    "log_num_slot = context.log_slots\n",
    "log_num_slot"
   ]
  },
  {
   "cell_type": "code",
   "execution_count": 12,
   "id": "e1504def-e0c6-4dc1-8d4d-6d4a2b125d9c",
   "metadata": {
    "tags": []
   },
   "outputs": [],
   "source": [
    "# you can see all methods in Block class\n",
    "# help(heaan.Block)"
   ]
  },
  {
   "cell_type": "markdown",
   "id": "74f33154-2b4a-4806-bc13-6e730663d4ca",
   "metadata": {
    "tags": []
   },
   "source": [
    "### Encrypt & Decrypt\n",
    "#### Save ctxt file and load"
   ]
  },
  {
   "cell_type": "code",
   "execution_count": 8,
   "id": "3dc418fc-c217-4fca-a028-65bf17069d54",
   "metadata": {
    "tags": []
   },
   "outputs": [
    {
     "data": {
      "text/plain": [
       "Ciphertext(log(num_slot): 15, device: CPU, level: 12)"
      ]
     },
     "execution_count": 8,
     "metadata": {},
     "output_type": "execute_result"
    }
   ],
   "source": [
    "a = [1,2,3,4] # no need to fill 0 to make list length to num_slot\n",
    "b = [0.1,0.2,0.3,0.4]\n",
    "\n",
    "## if set encrypted = False, a will not be encrypted. just encoding list to message Block\n",
    "a = heaan.Block(context,encrypted = False, data = a)\n",
    "b = heaan.Block(context,encrypted = False, data = b)\n",
    "\n",
    "## encrypt \n",
    "\n",
    "ctxt1 = a.encrypt()\n",
    "ctxt2 = b.encrypt()\n",
    "\n",
    "## save ciphertext to ctxt file format\n",
    "ctxt1.save('/root/tutorial/python/x1.ctxt')\n",
    "ctxt2.save('/root/tutorial/python/x2.ctxt')"
   ]
  },
  {
   "cell_type": "code",
   "execution_count": 11,
   "id": "58694330-672a-427d-8399-4b6f1156a896",
   "metadata": {
    "tags": []
   },
   "outputs": [
    {
     "name": "stdout",
     "output_type": "stream",
     "text": [
      "0 (1.0000000033515675+2.1711986300199003e-09j)\n",
      "1 (2.000000012352754-4.636489161465599e-09j)\n",
      "2 (2.9999999742533454+1.4387558553282273e-09j)\n",
      "3 (3.999999995041752-2.0825264392909296e-08j)\n",
      "4 (-4.926269784134032e-09-4.547855552527933e-09j)\n",
      " \n",
      "0 (0.10000001542253958-9.081722455021433e-09j)\n",
      "1 (0.20000000712437488+5.7562660335395475e-09j)\n",
      "2 (0.300000006809978+8.943145486403779e-09j)\n",
      "3 (0.39999999744233394+4.0791093476541065e-08j)\n",
      "4 (1.4968096319438594e-08-1.210753429035947e-09j)\n",
      " \n",
      "x1:  (1.0000000033515675+2.1711986300199003e-09j)\n",
      "x2:  (0.10000001542253958-9.081722455021433e-09j)\n",
      "x1:  (2.000000012352754-4.636489161465599e-09j)\n",
      "x2:  (0.20000000712437488+5.7562660335395475e-09j)\n",
      "x1:  (2.9999999742533454+1.4387558553282273e-09j)\n",
      "x2:  (0.300000006809978+8.943145486403779e-09j)\n",
      "x1:  (3.999999995041752-2.0825264392909296e-08j)\n",
      "x2:  (0.39999999744233394+4.0791093476541065e-08j)\n",
      "x1:  (-4.926269784134032e-09-4.547855552527933e-09j)\n",
      "x2:  (1.4968096319438594e-08-1.210753429035947e-09j)\n"
     ]
    }
   ],
   "source": [
    "## load ctxt file\n",
    "\n",
    "## make emtpy ctxt\n",
    "empty_msg= heaan.Block(context,encrypted = False) # data : default is None\n",
    "load_ctxt1 = empty_msg.encrypt()   \n",
    "load_ctxt2 = empty_msg  ## after call 'empty_msg.encrypt()', then 'empty_msg' is encrypted as ciphertext\n",
    "\n",
    "load_ctxt1 = load_ctxt1.load('/root/tutorial/python/x1.ctxt')\n",
    "load_ctxt2 = load_ctxt2.load('/root/tutorial/python/x2.ctxt')\n",
    "\n",
    "## Ciphertext print Option1. \n",
    "print_ctxt(load_ctxt1,5)\n",
    "print(' ')\n",
    "print_ctxt(load_ctxt2,5)\n",
    "print(' ')\n",
    "\n",
    "## Ciphertext print Option2. \n",
    "x1 = load_ctxt1.decrypt() # then load_ctxt1 is decrypted as message (it is no longer ciphertext)\n",
    "x2 = load_ctxt2.decrypt()\n",
    "\n",
    "for i in range(5):\n",
    "    print('x1: ',x1[i])\n",
    "    print('x2: ',x2[i])"
   ]
  },
  {
   "cell_type": "code",
   "execution_count": 10,
   "id": "21caacd8-3066-42bd-93e7-3263508fdd60",
   "metadata": {
    "tags": []
   },
   "outputs": [],
   "source": [
    "def check_boot(x):\n",
    "    if x.level==3:\n",
    "        x.bootstrap()\n",
    "    elif x.level<3:\n",
    "        exit(0)\n",
    "    return x\n",
    "\n",
    "def print_ctxt(c,size):\n",
    "    m = c.decrypt(inplace=False)\n",
    "    for i in range(size):\n",
    "        print(i,m[i])\n",
    "        if (math.isnan(m[i].real)):\n",
    "            print (\"nan detected..stop\")\n",
    "            exit(0)"
   ]
  },
  {
   "cell_type": "markdown",
   "id": "99657cc3-17c6-4358-a705-f219bf37094c",
   "metadata": {
    "tags": []
   },
   "source": [
    "### Main calculation\n",
    "#### Ciphertext + number"
   ]
  },
  {
   "cell_type": "code",
   "execution_count": 12,
   "id": "29dcf727-caf8-42cd-8d0d-cd5a6d205291",
   "metadata": {
    "tags": []
   },
   "outputs": [
    {
     "name": "stdout",
     "output_type": "stream",
     "text": [
      "0.9999999922476959\n",
      "0.9999999887624403\n",
      "1.0000000064372236\n",
      "1.0000000303167669\n",
      "0.999999995737224\n"
     ]
    }
   ],
   "source": [
    "block = heaan.Block(context,encrypted = False, data = [0]*num_slot) ## 이렇게하면 block은 ciphertext가 아니라 message임\n",
    "\n",
    "ctxt = block.encrypt()\n",
    "\n",
    "## add 1 for all slots of \n",
    "ctxt = ctxt + 1\n",
    "\n",
    "# print(ctxt)\n",
    "ctxt.decrypt()\n",
    "for i in range(5):\n",
    "    print(ctxt[i].real)\n"
   ]
  },
  {
   "cell_type": "markdown",
   "id": "01d11e63-62b8-43b9-abad-384ee4d36176",
   "metadata": {
    "tags": []
   },
   "source": [
    "#### inverse"
   ]
  },
  {
   "cell_type": "code",
   "execution_count": 13,
   "id": "a8970c43-40c1-4174-a943-e81c20e837da",
   "metadata": {
    "tags": []
   },
   "outputs": [
    {
     "name": "stdout",
     "output_type": "stream",
     "text": [
      "10.000000315718353\n",
      "99.99990186541982\n",
      "999.9876863526733\n",
      "10001.115531396397\n",
      "262179.98832135496\n"
     ]
    }
   ],
   "source": [
    "## msg * ctxt\n",
    "a= [0.1,0.01,0.001,0.0001]\n",
    "\n",
    "a_block = heaan.Block(context, data = a) \n",
    "ctxt1 = a_block.encrypt()\n",
    "\n",
    "inverse = ctxt1.inverse(greater_than_one = False)\n",
    "inverse.decrypt()\n",
    "for i in range(5):\n",
    "    print(inverse[i].real)"
   ]
  },
  {
   "cell_type": "markdown",
   "id": "d8878da4-4fad-42b6-8868-a0f3cd61b139",
   "metadata": {},
   "source": [
    "#### add, sub, mult"
   ]
  },
  {
   "cell_type": "code",
   "execution_count": 14,
   "id": "01968d4d-78fa-4954-a67d-0589812745b4",
   "metadata": {
    "tags": []
   },
   "outputs": [],
   "source": [
    "a= [1,2,3,4]\n",
    "b= [1,2,3,4] \n",
    "\n",
    "a_block = heaan.Block(context, data = a) ## 이렇게하면 block은 ciphertext가 아니라 message임\n",
    "ctxt1 = a_block.encrypt()\n",
    "b_block = heaan.Block(context, data = b) ## 이렇게하면 block은 ciphertext가 아니라 message임\n",
    "ctxt2 = b_block.encrypt()\n",
    "\n",
    "## add\n",
    "add_ctxt = ctxt1 + ctxt2\n",
    "\n",
    "## sub\n",
    "sub_ctxt = ctxt1 - ctxt2\n",
    "\n",
    "## mult\n",
    "# excute mult operation, then cihertext level 1 down\n",
    "# init level of ciphertext = 12\n",
    "# print(ctxt1.level) ## 12\n",
    "mult_ctxt = ctxt1 * ctxt2\n",
    "# print(mult_ctxt.level) ## 11"
   ]
  },
  {
   "cell_type": "markdown",
   "id": "d78405f6-700b-46a2-8107-a02ea3995f7a",
   "metadata": {},
   "source": [
    "#### rotate\n",
    "you don't need to rot_idx as block. it can be just int value."
   ]
  },
  {
   "cell_type": "code",
   "execution_count": 15,
   "id": "c67f7fdf-0e9b-43c7-bad8-ef6944536751",
   "metadata": {
    "tags": []
   },
   "outputs": [
    {
     "name": "stdout",
     "output_type": "stream",
     "text": [
      "Ciphertext(log(num_slot): 15, device: CPU, level: 12)\n",
      "(0.19999999320903158+3.2849852222637134e-09j)\n",
      "(0.3000000074784588-8.453653715750744e-09j)\n",
      "(0.40000004558468816-2.440390060491175e-09j)\n",
      "(1.836140808337516e-08-2.7250364062917074e-09j)\n",
      "(-7.84106134746879e-09+3.401902441924129e-08j)\n",
      " \n",
      "(3.250580490950235e-08-2.0899486241772277e-08j)\n",
      "(0.10000000904632533-6.527107664591949e-10j)\n",
      "(0.19999999265960336+5.034915853588839e-09j)\n",
      "(0.3000000071572689-7.872942290715758e-09j)\n",
      "(0.4000000450399934-2.1893719406148973e-09j)\n"
     ]
    }
   ],
   "source": [
    "a = [0.1, 0.2, 0.3, 0.4]\n",
    "a = heaan.Block(context,data=a)\n",
    "a.encrypt()\n",
    "print(a)\n",
    "\n",
    "rot_idx = 1\n",
    "res = a.__lshift__(rot_idx) # left rotate 'a' ciphertext 'rot_idx' slots \n",
    "\n",
    "res.decrypt()\n",
    "print(res[0])\n",
    "print(res[1])\n",
    "print(res[2])\n",
    "print(res[3])\n",
    "print(res[4])\n",
    "\n",
    "res2 = a.__rshift__(rot_idx) # right rotate 'a' ciphertext 'rot_idx' slots \n",
    "res2.decrypt()\n",
    "print(' ')\n",
    "print(res2[0])\n",
    "print(res2[1])\n",
    "print(res2[2])\n",
    "print(res2[3])\n",
    "print(res2[4])"
   ]
  },
  {
   "cell_type": "code",
   "execution_count": 16,
   "id": "c290fb98-e19f-4f48-8cd8-fb817540559f",
   "metadata": {
    "tags": []
   },
   "outputs": [
    {
     "name": "stdout",
     "output_type": "stream",
     "text": [
      "Help on cython_function_or_method in module heaan_sdk.block:\n",
      "\n",
      "__neg__(self) -> 'Block'\n",
      "\n"
     ]
    }
   ],
   "source": [
    "help(heaan.Block.__neg__)\n",
    "# res = self.__neg__()"
   ]
  },
  {
   "cell_type": "code",
   "execution_count": 17,
   "id": "2772bfcf-fbf6-4ab4-ac57-5917e1d4306a",
   "metadata": {
    "tags": []
   },
   "outputs": [
    {
     "ename": "NameError",
     "evalue": "name 'self' is not defined",
     "output_type": "error",
     "traceback": [
      "\u001b[0;31m---------------------------------------------------------------------------\u001b[0m",
      "\u001b[0;31mNameError\u001b[0m                                 Traceback (most recent call last)",
      "Cell \u001b[0;32mIn[17], line 1\u001b[0m\n\u001b[0;32m----> 1\u001b[0m \u001b[38;5;28;43mself\u001b[39;49m\u001b[38;5;241m.\u001b[39mdecrypt()\n\u001b[1;32m      2\u001b[0m \u001b[38;5;28mprint\u001b[39m(\u001b[38;5;28mself\u001b[39m[\u001b[38;5;241m0\u001b[39m])\n\u001b[1;32m      3\u001b[0m \u001b[38;5;28mprint\u001b[39m(\u001b[38;5;28mself\u001b[39m[\u001b[38;5;241m1\u001b[39m])\n",
      "\u001b[0;31mNameError\u001b[0m: name 'self' is not defined"
     ]
    }
   ],
   "source": [
    "self.decrypt()\n",
    "print(self[0])\n",
    "print(self[1])\n",
    "print(self[2])\n",
    "print(self[3])\n",
    "print(self[4])"
   ]
  },
  {
   "cell_type": "markdown",
   "id": "e71ce54a-18c9-4513-bf96-d29ccbfee01a",
   "metadata": {},
   "source": [
    "#### negate\n",
    "change the sign (ex. -2 -> +2)"
   ]
  },
  {
   "cell_type": "code",
   "execution_count": null,
   "id": "5110ea26-ca49-40e0-92c9-545df254986d",
   "metadata": {
    "tags": []
   },
   "outputs": [],
   "source": [
    "li = [2,0,-2]+[0]*(num_slot-3)\n",
    "li = heaan.Block(context, data=li)\n",
    "li.encrypt()\n",
    "\n",
    "res = 0 - li ## 0 - ciphertext is also make same result of negate method\n",
    "res2 = li.__neg__()\n",
    "res.decrypt()\n",
    "print(res[0])\n",
    "print(res[1])\n",
    "print(res[2])\n",
    "print(res[3])\n",
    "print(res[4])\n",
    "print('')\n",
    "\n",
    "res2.decrypt()\n",
    "print(res2[0])\n",
    "print(res2[1])\n",
    "print(res2[2])\n",
    "print(res2[3])\n",
    "print(res2[4])"
   ]
  },
  {
   "cell_type": "markdown",
   "id": "22c9ab9c-4c15-4f12-9b16-b29b7a143fe4",
   "metadata": {},
   "source": [
    "#### sign\n",
    "- 양수면 1, 음수면 -1 나오게 하는 함수\n",
    "- log_range : Log of the input range. Integer <= 38. Defaults to 0, which means that the domain of approximation is [-1, 1]."
   ]
  },
  {
   "cell_type": "code",
   "execution_count": null,
   "id": "4ae96fb9-5839-4433-a75b-c73d0ff30386",
   "metadata": {
    "tags": []
   },
   "outputs": [],
   "source": [
    "li = [0.2,0,-0.2]\n",
    "li = heaan.Block(context, data=li)\n",
    "res= li.encrypt()\n",
    "\n",
    "res.sign(inplace = True, log_range=0)\n",
    "\n",
    "res.decrypt()\n",
    "print(res[0])\n",
    "print(res[1])\n",
    "print(res[2])\n",
    "print(res[3])\n",
    "print(res[4])"
   ]
  },
  {
   "cell_type": "markdown",
   "id": "eca00017-4846-4895-a7f3-72c1d6335348",
   "metadata": {
    "tags": []
   },
   "source": [
    "#### greater than zero\n",
    "- 음수 면 0, 양수면 1, 0이면 0.5"
   ]
  },
  {
   "cell_type": "code",
   "execution_count": 18,
   "id": "aa3bc717-e950-4553-bf41-487dffd04b7d",
   "metadata": {
    "tags": []
   },
   "outputs": [
    {
     "name": "stdout",
     "output_type": "stream",
     "text": [
      "(3.849505991748714e-10+6.773722927550588e-11j)\n",
      "(0.9999999992998507-1.1215461761812492e-10j)\n",
      "(1.000000002811444+8.352405424189487e-10j)\n",
      "(0.4948779082648287-2.026023887153482e-09j)\n",
      "(0.49723285326616995+1.5938540162428722e-08j)\n"
     ]
    }
   ],
   "source": [
    "li = [-0.1,0.2,0.5]\n",
    "li = heaan.Block(context, data=li)\n",
    "li= li.encrypt()\n",
    "\n",
    "res= li.greater_than_zero()\n",
    "\n",
    "res.decrypt()\n",
    "print(res[0])\n",
    "print(res[1])\n",
    "print(res[2])\n",
    "print(res[3])\n",
    "print(res[4])"
   ]
  },
  {
   "cell_type": "code",
   "execution_count": 78,
   "id": "e670ca28-a834-47dd-945c-3e7a00d9ca96",
   "metadata": {
    "tags": []
   },
   "outputs": [
    {
     "data": {
      "text/plain": [
       "3"
      ]
     },
     "execution_count": 78,
     "metadata": {},
     "output_type": "execute_result"
    }
   ],
   "source": [
    "context.min_level_for_bootstrap"
   ]
  },
  {
   "cell_type": "markdown",
   "id": "932d931c-c5b2-409a-a234-78aa9d0ba8bf",
   "metadata": {},
   "source": [
    "#### rotate_reduce"
   ]
  },
  {
   "cell_type": "code",
   "execution_count": 4,
   "id": "1821e90a-a644-43f1-a9de-82f94a10898f",
   "metadata": {
    "tags": []
   },
   "outputs": [],
   "source": [
    "def left_rotate_reduce(context,data,gs,interval):\n",
    "    # data = Block\n",
    "   \n",
    "    # m0 = heaan.Message(logN-1,0)\n",
    "    m0 = heaan.Block(context,encrypted = False, data = [0]*context.num_slots)\n",
    "    res = m0.encrypt()\n",
    "    \n",
    "    empty_msg= heaan.Block(context,encrypted = False)\n",
    "    rot = empty_msg.encrypt(inplace=False)\n",
    "    \n",
    "    binary_list = []\n",
    "    while gs > 1:\n",
    "        if gs%2 == 1:\n",
    "            binary_list.append(1)\n",
    "        else:\n",
    "            binary_list.append(0)\n",
    "        gs = gs//2\n",
    "    binary_list.append(gs)\n",
    "\n",
    "    i = len(binary_list)-1\n",
    "    sdind = 0\n",
    "    while i >= 0:\n",
    "        if binary_list[i] == 1:\n",
    "            ind = 0\n",
    "            s = interval\n",
    "            tmp = data\n",
    "            while ind < i:\n",
    "            \n",
    "                rot = tmp.__lshift__(s)\n",
    "                tmp = tmp + rot\n",
    "                s = s*2\n",
    "                ind = ind+1\n",
    "            if sdind > 0:\n",
    "                tmp = tmp.__lshift__(sdind)\n",
    "            res = res + tmp\n",
    "            sdind = sdind + s\n",
    "        i = i - 1            \n",
    "\n",
    "    del  rot, tmp\n",
    "    \n",
    "    return res"
   ]
  },
  {
   "cell_type": "code",
   "execution_count": 5,
   "id": "cf7548f3-a866-4cd3-8035-80918b237b99",
   "metadata": {
    "tags": []
   },
   "outputs": [
    {
     "name": "stdout",
     "output_type": "stream",
     "text": [
      "(5.999999944596432+1.0537988438416347e-08j)\n",
      "(5.999999894948648-2.4197436735102753e-08j)\n",
      "(5.999999904658025+1.81116828749206e-08j)\n",
      "(5.999999911223057+1.5890127989352557e-08j)\n",
      "(5.99999997197177-3.4715969437379393e-09j)\n",
      "(6.000000008247307-1.6302118821967013e-08j)\n",
      "(6.000000013648723+1.5780694522419233e-08j)\n",
      "(6.0000000657278605-2.383036130835191e-09j)\n",
      "(6.000000040475667-3.333911646479907e-08j)\n",
      "(6.000000042551077-3.047243636354767e-08j)\n"
     ]
    }
   ],
   "source": [
    "n = 2\n",
    "d = 3\n",
    "data = [1]*32768\n",
    "msg = heaan.Block(context, data = data,encrypted=False)\n",
    "tmp = msg.encrypt()\n",
    "\n",
    "result = left_rotate_reduce(context,tmp,n*d,1)\n",
    "result.decrypt()\n",
    "for i in range(10):\n",
    "    print(result[i])"
   ]
  }
 ],
 "metadata": {
  "kernelspec": {
   "display_name": "Python 3 (ipykernel)",
   "language": "python",
   "name": "python3"
  },
  "language_info": {
   "codemirror_mode": {
    "name": "ipython",
    "version": 3
   },
   "file_extension": ".py",
   "mimetype": "text/x-python",
   "name": "python",
   "nbconvert_exporter": "python",
   "pygments_lexer": "ipython3",
   "version": "3.8.16+"
  }
 },
 "nbformat": 4,
 "nbformat_minor": 5
}
