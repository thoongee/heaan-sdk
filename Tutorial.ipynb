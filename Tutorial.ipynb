{
 "cells": [
  {
   "cell_type": "code",
   "execution_count": 14,
   "id": "833c90c0-3781-434f-a6e9-ca28fddb2915",
   "metadata": {
    "tags": []
   },
   "outputs": [
    {
     "name": "stdout",
     "output_type": "stream",
     "text": [
      "The currently used HEaaN library does not support GPU acceleration\n"
     ]
    }
   ],
   "source": [
    "import os\n",
    "os.environ[\"OMP_NUM_THREADS\"] = \"8\"  # set the number of CPU threads to use for parallel regions\n",
    "\n",
    "from pathlib import Path\n",
    "import numpy as np\n",
    "import pandas as pd\n",
    "import time\n",
    "import heaan_sdk as heaan\n",
    "import math\n",
    "\n",
    "# set key_dir_path\n",
    "key_dir_path = Path('./BinaryDT/keys')\n",
    "\n",
    "# set parameter\n",
    "params = heaan.HEParameter.from_preset(\"FGb\")\n",
    "\n",
    "# init context and load all keys\n",
    "# if set generate_keys=True, then make key\n",
    "# if set generate_keys=False, then not make key. just use existing key.\n",
    "context = heaan.Context(\n",
    "    params,\n",
    "    key_dir_path=key_dir_path,\n",
    "    load_keys=\"all\",\n",
    "    generate_keys=False,\n",
    ")"
   ]
  },
  {
   "cell_type": "code",
   "execution_count": 15,
   "id": "0239e830-ca2d-4c28-b24b-2666a99bdbaa",
   "metadata": {
    "tags": []
   },
   "outputs": [
    {
     "data": {
      "text/plain": [
       "32768"
      ]
     },
     "execution_count": 15,
     "metadata": {},
     "output_type": "execute_result"
    }
   ],
   "source": [
    "num_slot = context.num_slots\n",
    "num_slot"
   ]
  },
  {
   "cell_type": "code",
   "execution_count": 16,
   "id": "6b797307-bb39-43fb-88d9-138b631ae44c",
   "metadata": {
    "tags": []
   },
   "outputs": [
    {
     "data": {
      "text/plain": [
       "15"
      ]
     },
     "execution_count": 16,
     "metadata": {},
     "output_type": "execute_result"
    }
   ],
   "source": [
    "log_num_slot = context.log_slots\n",
    "log_num_slot"
   ]
  },
  {
   "cell_type": "code",
   "execution_count": 12,
   "id": "e1504def-e0c6-4dc1-8d4d-6d4a2b125d9c",
   "metadata": {
    "tags": []
   },
   "outputs": [],
   "source": [
    "# you can see all methods in Block class\n",
    "# help(heaan.Block)"
   ]
  },
  {
   "cell_type": "markdown",
   "id": "74f33154-2b4a-4806-bc13-6e730663d4ca",
   "metadata": {
    "tags": []
   },
   "source": [
    "### Encrypt & Decrypt\n",
    "#### Save ctxt file and load"
   ]
  },
  {
   "cell_type": "code",
   "execution_count": 17,
   "id": "3dc418fc-c217-4fca-a028-65bf17069d54",
   "metadata": {
    "tags": []
   },
   "outputs": [
    {
     "data": {
      "text/plain": [
       "Ciphertext(log(num_slot): 15, device: CPU, level: 12)"
      ]
     },
     "execution_count": 17,
     "metadata": {},
     "output_type": "execute_result"
    }
   ],
   "source": [
    "a = [1,2,3,4] # no need to fill 0 to make list length to num_slot\n",
    "b = [0.1,0.2,0.3,0.4]\n",
    "\n",
    "## if set encrypted = False, a will not be encrypted. just encoding list to message Block\n",
    "a = heaan.Block(context,encrypted = False, data = a)\n",
    "b = heaan.Block(context,encrypted = False, data = b)\n",
    "\n",
    "## encrypt \n",
    "\n",
    "ctxt1 = a.encrypt()\n",
    "ctxt2 = b.encrypt()\n",
    "\n",
    "## save ciphertext to ctxt file format\n",
    "ctxt1.save('/root/tutorial/python/x1.ctxt')\n",
    "ctxt2.save('/root/tutorial/python/x2.ctxt')"
   ]
  },
  {
   "cell_type": "code",
   "execution_count": 28,
   "id": "58694330-672a-427d-8399-4b6f1156a896",
   "metadata": {
    "tags": []
   },
   "outputs": [
    {
     "name": "stdout",
     "output_type": "stream",
     "text": [
      "0 (0.9999999707095197-5.234345409793269e-11j)\n",
      "1 (2.000000005595655-1.2459760991605762e-08j)\n",
      "2 (3.000000032556197+2.4128233938013812e-08j)\n",
      "3 (3.9999999840313496-5.898575894190847e-09j)\n",
      "4 (3.0732744397223015e-08+2.870428675933173e-08j)\n",
      " \n",
      "0 (0.09999994851459448+4.028064524036251e-08j)\n",
      "1 (0.1999999866558003+3.835441904847306e-09j)\n",
      "2 (0.300000008361246+2.2082969861106234e-08j)\n",
      "3 (0.40000000532473035+1.1854486555111258e-09j)\n",
      "4 (-6.032135768337639e-08+1.4787881702009726e-08j)\n",
      " \n",
      "x1:  (0.9999999707095197-5.234345409793269e-11j)\n",
      "x2:  (0.09999994851459448+4.028064524036251e-08j)\n",
      "x1:  (2.000000005595655-1.2459760991605762e-08j)\n",
      "x2:  (0.1999999866558003+3.835441904847306e-09j)\n",
      "x1:  (3.000000032556197+2.4128233938013812e-08j)\n",
      "x2:  (0.300000008361246+2.2082969861106234e-08j)\n",
      "x1:  (3.9999999840313496-5.898575894190847e-09j)\n",
      "x2:  (0.40000000532473035+1.1854486555111258e-09j)\n",
      "x1:  (3.0732744397223015e-08+2.870428675933173e-08j)\n",
      "x2:  (-6.032135768337639e-08+1.4787881702009726e-08j)\n"
     ]
    }
   ],
   "source": [
    "## load ctxt file\n",
    "\n",
    "## make emtpy ctxt\n",
    "empty_msg= heaan.Block(context,encrypted = False) # data : default is None\n",
    "load_ctxt1 = empty_msg.encrypt()   \n",
    "load_ctxt2 = empty_msg  ## after call 'empty_msg.encrypt()', then 'empty_msg' is encrypted as ciphertext\n",
    "\n",
    "load_ctxt1 = load_ctxt1.load('/root/tutorial/python/x1.ctxt')\n",
    "load_ctxt2 = load_ctxt2.load('/root/tutorial/python/x2.ctxt')\n",
    "\n",
    "## Ciphertext print Option1. \n",
    "print_ctxt(load_ctxt1,5)\n",
    "print(' ')\n",
    "print_ctxt(load_ctxt2,5)\n",
    "print(' ')\n",
    "\n",
    "## Ciphertext print Option2. \n",
    "x1 = load_ctxt1.decrypt() # then load_ctxt1 is decrypted as message (it is no longer ciphertext)\n",
    "x2 = load_ctxt2.decrypt()\n",
    "\n",
    "for i in range(5):\n",
    "    print('x1: ',x1[i])\n",
    "    print('x2: ',x2[i])"
   ]
  },
  {
   "cell_type": "code",
   "execution_count": 20,
   "id": "21caacd8-3066-42bd-93e7-3263508fdd60",
   "metadata": {
    "tags": []
   },
   "outputs": [],
   "source": [
    "def check_boot(x):\n",
    "    if x.level==3:\n",
    "        x.bootstrap()\n",
    "    elif x.level<3:\n",
    "        exit(0)\n",
    "    return x\n",
    "\n",
    "def print_ctxt(c,size):\n",
    "    m = c.decrypt(inplace=False)\n",
    "    for i in range(size):\n",
    "        print(i,m[i])\n",
    "        if (math.isnan(m[i].real)):\n",
    "            print (\"nan detected..stop\")\n",
    "            exit(0)"
   ]
  },
  {
   "cell_type": "markdown",
   "id": "99657cc3-17c6-4358-a705-f219bf37094c",
   "metadata": {},
   "source": [
    "### Main calculation\n",
    "#### Ciphertext + number"
   ]
  },
  {
   "cell_type": "code",
   "execution_count": 31,
   "id": "29dcf727-caf8-42cd-8d0d-cd5a6d205291",
   "metadata": {
    "tags": []
   },
   "outputs": [
    {
     "name": "stdout",
     "output_type": "stream",
     "text": [
      "1.0000000400842353\n",
      "1.000000013139484\n",
      "1.0000000267102678\n",
      "0.999999970899251\n",
      "1.0000000305414423\n"
     ]
    }
   ],
   "source": [
    "block = heaan.Block(context,encrypted = False, data = [0]*num_slot) ## 이렇게하면 block은 ciphertext가 아니라 message임\n",
    "\n",
    "ctxt = block.encrypt()\n",
    "\n",
    "## add 1 for all slots of \n",
    "ctxt = ctxt + 1\n",
    "\n",
    "# print(ctxt)\n",
    "ctxt.decrypt()\n",
    "for i in range(5):\n",
    "    print(ctxt[i].real)\n"
   ]
  },
  {
   "cell_type": "markdown",
   "id": "01d11e63-62b8-43b9-abad-384ee4d36176",
   "metadata": {
    "tags": []
   },
   "source": [
    "#### inverse"
   ]
  },
  {
   "cell_type": "code",
   "execution_count": 36,
   "id": "a8970c43-40c1-4174-a943-e81c20e837da",
   "metadata": {
    "tags": []
   },
   "outputs": [
    {
     "name": "stdout",
     "output_type": "stream",
     "text": [
      "10.000001893466106\n",
      "100.00010044027294\n",
      "1000.0296822471282\n",
      "10003.37883551541\n",
      "262316.7605683955\n"
     ]
    }
   ],
   "source": [
    "## msg * ctxt\n",
    "a= [0.1,0.01,0.001,0.0001]\n",
    "\n",
    "a_block = heaan.Block(context, data = a) \n",
    "ctxt1 = a_block.encrypt()\n",
    "\n",
    "inverse = ctxt1.inverse(greater_than_one = False)\n",
    "inverse.decrypt()\n",
    "for i in range(5):\n",
    "    print(inverse[i].real)"
   ]
  },
  {
   "cell_type": "markdown",
   "id": "d8878da4-4fad-42b6-8868-a0f3cd61b139",
   "metadata": {},
   "source": [
    "#### add, sub, mult"
   ]
  },
  {
   "cell_type": "markdown",
   "id": "a45aa772-528d-4bed-bbfc-649877781ac1",
   "metadata": {},
   "source": [
    "#### rotate sum"
   ]
  },
  {
   "cell_type": "code",
   "execution_count": 34,
   "id": "f91366bf-4820-454a-b239-6d2f8607c8c4",
   "metadata": {
    "tags": []
   },
   "outputs": [
    {
     "name": "stdout",
     "output_type": "stream",
     "text": [
      "(9.999997385364301+2.9296233654136295e-07j)\n",
      "(9.99999740970851+3.291563313447772e-07j)\n",
      "(9.999997389026195+2.8413299903565174e-07j)\n",
      "(9.999997349859743+2.5802439638119684e-07j)\n",
      "(9.999997462847759+3.009069589867931e-07j)\n",
      "(9.999997428514376+3.0931208697553383e-07j)\n",
      "(9.999997439335187+2.2211586661318477e-07j)\n"
     ]
    }
   ],
   "source": [
    "## rotate_sum\n",
    "def rotate_sum(input_ctxt):\n",
    "    for i in range(int(np.log2(num_slot))):\n",
    "        tmp_ctxt = input_ctxt.__lshift__(2**i)\n",
    "        check_boot(tmp_ctxt)\n",
    "        input_ctxt = input_ctxt + tmp_ctxt\n",
    "    return input_ctxt\n",
    "\n",
    "\n",
    "a= [1,2,3,4]\n",
    "\n",
    "a_block = heaan.Block(context, data = a)\n",
    "ctxt1 = a_block.encrypt()\n",
    "res = rotate_sum(ctxt1)\n",
    "\n",
    "res.decrypt()\n",
    "print(res[0])\n",
    "print(res[1])\n",
    "print(res[2])\n",
    "print(res[3])\n",
    "print(res[4])\n",
    "print(res[5])\n",
    "print(res[6])"
   ]
  },
  {
   "cell_type": "markdown",
   "id": "d78405f6-700b-46a2-8107-a02ea3995f7a",
   "metadata": {},
   "source": [
    "#### rotate\n",
    "you don't need to rot_idx as block. it can be just int value."
   ]
  },
  {
   "cell_type": "code",
   "execution_count": 40,
   "id": "c67f7fdf-0e9b-43c7-bad8-ef6944536751",
   "metadata": {
    "tags": []
   },
   "outputs": [
    {
     "name": "stdout",
     "output_type": "stream",
     "text": [
      "Ciphertext(log(num_slot): 15, device: CPU, level: 12)\n",
      "2\n",
      "(0.2000000063268479-2.913352318509795e-09j)\n",
      "(0.2999999909840392+5.586706089278126e-09j)\n",
      "(0.3999999954505603-1.156802389569839e-08j)\n",
      "(4.35906092725021e-09+2.871978208925836e-08j)\n",
      "(-4.5824651158176474e-08-5.871980752984299e-08j)\n",
      " \n",
      "(-1.935768578803946e-08-2.249148071172999e-10j)\n",
      "(0.1000000059727573-1.8578693923914618e-09j)\n",
      "(0.2000000065806647-2.009188390398953e-09j)\n",
      "(0.29999999112003173+5.844619641396655e-09j)\n",
      "(0.39999999615699633-1.2541282828238646e-08j)\n"
     ]
    }
   ],
   "source": [
    "a = [0.1, 0.2, 0.3, 0.4]\n",
    "a = heaan.Block(context,data=a)\n",
    "a.encrypt()\n",
    "print(a)\n",
    "\n",
    "rot_idx = 1\n",
    "res = a.__lshift__(rot_idx) # left rotate 'a' ciphertext 'rot_idx' slots \n",
    "\n",
    "res.decrypt()\n",
    "print(res[0])\n",
    "print(res[1])\n",
    "print(res[2])\n",
    "print(res[3])\n",
    "print(res[4])\n",
    "\n",
    "res2 = a.__rshift__(rot_idx) # right rotate 'a' ciphertext 'rot_idx' slots \n",
    "res2.decrypt()\n",
    "print(' ')\n",
    "print(res2[0])\n",
    "print(res2[1])\n",
    "print(res2[2])\n",
    "print(res2[3])\n",
    "print(res2[4])"
   ]
  },
  {
   "cell_type": "code",
   "execution_count": 20,
   "id": "c290fb98-e19f-4f48-8cd8-fb817540559f",
   "metadata": {
    "tags": []
   },
   "outputs": [
    {
     "name": "stdout",
     "output_type": "stream",
     "text": [
      "Help on cython_function_or_method in module heaan_sdk.block:\n",
      "\n",
      "__neg__(self) -> 'Block'\n",
      "\n"
     ]
    }
   ],
   "source": [
    "help(heaan.Block.__neg__)\n",
    "# res = self.__neg__()"
   ]
  },
  {
   "cell_type": "code",
   "execution_count": 54,
   "id": "2772bfcf-fbf6-4ab4-ac57-5917e1d4306a",
   "metadata": {
    "tags": []
   },
   "outputs": [
    {
     "name": "stdout",
     "output_type": "stream",
     "text": [
      "(1.1000000176758764-1.2182042146624807e-08j)\n",
      "(1.1999999891686257-6.9828433813540215e-09j)\n",
      "(1.2999999874414672+1.0893755604136088e-08j)\n",
      "(1.4000000046647083+5.507332069350436e-09j)\n",
      "(-1.6586568573256016e-08+6.091451772240255e-09j)\n"
     ]
    }
   ],
   "source": [
    "self.decrypt()\n",
    "print(self[0])\n",
    "print(self[1])\n",
    "print(self[2])\n",
    "print(self[3])\n",
    "print(self[4])"
   ]
  },
  {
   "cell_type": "markdown",
   "id": "e71ce54a-18c9-4513-bf96-d29ccbfee01a",
   "metadata": {},
   "source": [
    "#### negate\n",
    "change the sign (ex. -2 -> +2)"
   ]
  },
  {
   "cell_type": "code",
   "execution_count": 49,
   "id": "5110ea26-ca49-40e0-92c9-545df254986d",
   "metadata": {
    "tags": []
   },
   "outputs": [
    {
     "name": "stdout",
     "output_type": "stream",
     "text": [
      "(-2.000000004797153+7.706221736163178e-10j)\n",
      "(3.669146593665981e-08-2.5867687822515473e-09j)\n",
      "(1.9999999646551068-3.1561165423301245e-08j)\n",
      "(2.583266035275772e-09+1.5231461739618612e-08j)\n",
      "(-3.6677957443570934e-08+6.740558198514215e-09j)\n",
      "\n",
      "(-2.000000004797153+7.706221736163178e-10j)\n",
      "(3.669146593665981e-08-2.5867687822515473e-09j)\n",
      "(1.9999999646551068-3.1561165423301245e-08j)\n",
      "(2.583266035275772e-09+1.5231461739618612e-08j)\n",
      "(-3.6677957443570934e-08+6.740558198514215e-09j)\n"
     ]
    }
   ],
   "source": [
    "li = [2,0,-2]+[0]*(num_slot-3)\n",
    "li = heaan.Block(context, data=li)\n",
    "li.encrypt()\n",
    "\n",
    "res = 0 - li ## 0 - ciphertext is also make same result of negate method\n",
    "res2 = li.__neg__()\n",
    "res.decrypt()\n",
    "print(res[0])\n",
    "print(res[1])\n",
    "print(res[2])\n",
    "print(res[3])\n",
    "print(res[4])\n",
    "print('')\n",
    "\n",
    "res2.decrypt()\n",
    "print(res2[0])\n",
    "print(res2[1])\n",
    "print(res2[2])\n",
    "print(res2[3])\n",
    "print(res2[4])"
   ]
  },
  {
   "cell_type": "markdown",
   "id": "22c9ab9c-4c15-4f12-9b16-b29b7a143fe4",
   "metadata": {},
   "source": [
    "#### sign\n",
    "- 양수면 1, 음수면 -1 나오게 하는 함수\n",
    "- log_range : Log of the input range. Integer <= 38. Defaults to 0, which means that the domain of approximation is [-1, 1]."
   ]
  },
  {
   "cell_type": "code",
   "execution_count": 53,
   "id": "4ae96fb9-5839-4433-a75b-c73d0ff30386",
   "metadata": {
    "tags": []
   },
   "outputs": [
    {
     "name": "stdout",
     "output_type": "stream",
     "text": [
      "(0.9999999996928847-2.5699293281766253e-11j)\n",
      "(-0.0028869764259900794-4.2482922551060477e-10j)\n",
      "(-0.9999999999756998-1.2295460578100641e-09j)\n",
      "(-0.01789404673455924+2.982292119237457e-09j)\n",
      "(-0.012449862036342036-8.173173899439639e-09j)\n"
     ]
    }
   ],
   "source": [
    "li = [0.2,0,-0.2]\n",
    "li = heaan.Block(context, data=li)\n",
    "res= li.encrypt()\n",
    "\n",
    "res.sign(inplace = True, log_range=0)\n",
    "\n",
    "res.decrypt()\n",
    "print(res[0])\n",
    "print(res[1])\n",
    "print(res[2])\n",
    "print(res[3])\n",
    "print(res[4])"
   ]
  },
  {
   "cell_type": "markdown",
   "id": "eca00017-4846-4895-a7f3-72c1d6335348",
   "metadata": {
    "tags": []
   },
   "source": [
    "#### greater than zero\n",
    "- 음수 면 0, 양수면 1, 0이면 0.5"
   ]
  },
  {
   "cell_type": "code",
   "execution_count": 52,
   "id": "aa3bc717-e950-4553-bf41-487dffd04b7d",
   "metadata": {
    "tags": []
   },
   "outputs": [
    {
     "name": "stdout",
     "output_type": "stream",
     "text": [
      "(-7.426836923229985e-13+1.459841981338754e-10j)\n",
      "(0.9999999997816779-2.4547904560819825e-10j)\n",
      "(0.9999999998795712+1.0590633791032837e-09j)\n",
      "(0.4836712262297523-2.266486432962396e-08j)\n",
      "(0.49980125936617503-2.485689151228038e-09j)\n"
     ]
    }
   ],
   "source": [
    "li = [-0.1,0.2,0.5]\n",
    "li = heaan.Block(context, data=li)\n",
    "li= li.encrypt()\n",
    "\n",
    "res= li.greater_than_zero()\n",
    "\n",
    "res.decrypt()\n",
    "print(res[0])\n",
    "print(res[1])\n",
    "print(res[2])\n",
    "print(res[3])\n",
    "print(res[4])"
   ]
  },
  {
   "cell_type": "code",
   "execution_count": 78,
   "id": "e670ca28-a834-47dd-945c-3e7a00d9ca96",
   "metadata": {
    "tags": []
   },
   "outputs": [
    {
     "data": {
      "text/plain": [
       "3"
      ]
     },
     "execution_count": 78,
     "metadata": {},
     "output_type": "execute_result"
    }
   ],
   "source": [
    "context.min_level_for_bootstrap"
   ]
  }
 ],
 "metadata": {
  "kernelspec": {
   "display_name": "Python 3 (ipykernel)",
   "language": "python",
   "name": "python3"
  },
  "language_info": {
   "codemirror_mode": {
    "name": "ipython",
    "version": 3
   },
   "file_extension": ".py",
   "mimetype": "text/x-python",
   "name": "python",
   "nbconvert_exporter": "python",
   "pygments_lexer": "ipython3",
   "version": "3.8.16+"
  }
 },
 "nbformat": 4,
 "nbformat_minor": 5
}
